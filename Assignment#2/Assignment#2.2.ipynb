{
 "cells": [
  {
   "cell_type": "code",
   "execution_count": 44,
   "metadata": {},
   "outputs": [
    {
     "name": "stdout",
     "output_type": "stream",
     "text": [
      "HELLO WORLD \n",
      "HELLO WORLD\n",
      "HELLO WORLD\n",
      "HELLO WORLD\n",
      "HELLO WORLD\n"
     ]
    }
   ],
   "source": [
    "lines=\"\"\n",
    "for line in open('test.txt'):\n",
    "    lines+=(line.upper())\n",
    "print(lines)"
   ]
  },
  {
   "cell_type": "code",
   "execution_count": 45,
   "metadata": {},
   "outputs": [],
   "source": [
    "myfile=open('test.txt','w+')\n",
    "myfile.write(lines)\n",
    "myfile.close()"
   ]
  },
  {
   "cell_type": "code",
   "execution_count": 46,
   "metadata": {},
   "outputs": [],
   "source": [
    "myfile=open('test.txt','r+')\n",
    "A=myfile.readlines()\n",
    "A[2]=A[2].capitalize()\n",
    "\n"
   ]
  },
  {
   "cell_type": "code",
   "execution_count": 47,
   "metadata": {},
   "outputs": [],
   "source": [
    "myfile=open('test.txt','w+')\n",
    "myfile.writelines(A)\n",
    "myfile.close()"
   ]
  },
  {
   "cell_type": "code",
   "execution_count": 48,
   "metadata": {},
   "outputs": [],
   "source": [
    "with open('test.txt', 'a+') as myfile:\n",
    "    myfile.write(\"\\n\")\n",
    "    myfile.write(\"i love python\")\n",
    "    "
   ]
  },
  {
   "cell_type": "code",
   "execution_count": null,
   "metadata": {},
   "outputs": [],
   "source": []
  }
 ],
 "metadata": {
  "kernelspec": {
   "display_name": "Python 3",
   "language": "python",
   "name": "python3"
  },
  "language_info": {
   "codemirror_mode": {
    "name": "ipython",
    "version": 3
   },
   "file_extension": ".py",
   "mimetype": "text/x-python",
   "name": "python",
   "nbconvert_exporter": "python",
   "pygments_lexer": "ipython3",
   "version": "3.8.5"
  }
 },
 "nbformat": 4,
 "nbformat_minor": 4
}
