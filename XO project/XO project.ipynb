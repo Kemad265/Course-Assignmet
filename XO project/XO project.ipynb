{
 "cells": [
  {
   "cell_type": "code",
   "execution_count": null,
   "metadata": {},
   "outputs": [],
   "source": [
    "board = []\n",
    "for i in range (10):\n",
    "    board.append(i)\n",
    "    \n",
    "print (board)"
   ]
  },
  {
   "cell_type": "code",
   "execution_count": null,
   "metadata": {},
   "outputs": [],
   "source": [
    "def insertLetter(letter, pos):\n",
    "    board[pos] = letter"
   ]
  },
  {
   "cell_type": "code",
   "execution_count": null,
   "metadata": {},
   "outputs": [],
   "source": [
    "def spaceIsFree(pos):\n",
    "    if board[pos]!='X' and board[pos]!='O':\n",
    "        return True\n",
    "    else:\n",
    "        return False"
   ]
  },
  {
   "cell_type": "code",
   "execution_count": null,
   "metadata": {},
   "outputs": [],
   "source": [
    "def printBoard(board):\n",
    "    print(f\"\"\"\n",
    "    {board[1]}|{board[2]}|{board[3]}\n",
    "    -----\n",
    "    {board[4]}|{board[5]}|{board[6]}\n",
    "    -----\n",
    "    {board[7]}|{board[8]}|{board[9]}\n",
    "    \"\"\")"
   ]
  },
  {
   "cell_type": "code",
   "execution_count": null,
   "metadata": {},
   "outputs": [],
   "source": [
    "def isWinner(board, letter):\n",
    "    return (board[7] == letter and board[8] == letter and board[9] == letter) or (board[4] == letter and board[5] == letter and board[6] == letter) or(board[1] == letter and board[2] == letter and board[3] == letter) or(board[1] == letter and board[4] == letter and board[7] == letter) or(board[2] == letter and board[5] == letter and board[8] == letter) or(board[3] == letter and board[6] == letter and board[9] == letter) or(board[1] == letter and board[5] == letter and board[9] == letter) or(board[3] == letter and board[5] == letter and board[7] == letter)"
   ]
  },
  {
   "cell_type": "code",
   "execution_count": null,
   "metadata": {},
   "outputs": [],
   "source": [
    "def playerMove():\n",
    "    flag = True\n",
    "    while flag:\n",
    "        place = input('Please select a position to place an \\'X\\' (1-9): ')\n",
    "        try:\n",
    "            place = int(place)\n",
    "            if place > 0 and place < 10:\n",
    "                if spaceIsFree(place):\n",
    "                    flag = False\n",
    "                    insertLetter('X', place)\n",
    "                else:\n",
    "                    print('Sorry, this space is occupied!')\n",
    "            else:\n",
    "                print('Please type a number within the range!')\n",
    "        except:\n",
    "            print('Please type a number!')"
   ]
  },
  {
   "cell_type": "code",
   "execution_count": null,
   "metadata": {},
   "outputs": [],
   "source": [
    "def playerMoveX():\n",
    "    flag = True\n",
    "    while flag:\n",
    "        place = input('Please select a position to place an \\'X\\' (1-9): ')\n",
    "        try:\n",
    "            place = int(place)\n",
    "            if place > 0 and place < 10:\n",
    "                if spaceIsFree(place):\n",
    "                    flag = False\n",
    "                    insertLetter('X', place)\n",
    "                else:\n",
    "                    print('Sorry, this space is occupied!')\n",
    "            else:\n",
    "                print('Please type a number within the range!')\n",
    "        except:\n",
    "            print('Please type a number!')"
   ]
  },
  {
   "cell_type": "code",
   "execution_count": null,
   "metadata": {},
   "outputs": [],
   "source": [
    "def playerMoveO():\n",
    "    flag = True\n",
    "    while flag:\n",
    "        place = input('Please select a position to place an \\'O\\' (1-9): ')\n",
    "        try:\n",
    "            place = int(place)\n",
    "            if place > 0 and place < 10:\n",
    "                if spaceIsFree(place):\n",
    "                    flag = False\n",
    "                    insertLetter('O', place)\n",
    "                else:\n",
    "                    print('Sorry, this space is occupied!')\n",
    "            else:\n",
    "                print('Please type a number within the range!')\n",
    "        except:\n",
    "            print('Please type a number!')"
   ]
  },
  {
   "cell_type": "code",
   "execution_count": null,
   "metadata": {},
   "outputs": [],
   "source": [
    "def compMove():\n",
    "    possibleMoves = [x for x, letter in enumerate(board) if letter != 'X'and letter != 'O' and x != 0]\n",
    "    move = 0\n",
    "\n",
    "    for let in ['O', 'X']:\n",
    "        for i in possibleMoves:\n",
    "            boardCopy = board[:]\n",
    "            boardCopy[i] = let\n",
    "            if isWinner(boardCopy, let):\n",
    "                move = i\n",
    "                return move\n",
    "\n",
    "    cornersOpen = []\n",
    "    for i in possibleMoves:\n",
    "        if i in [1,3,7,9]:\n",
    "            cornersOpen.append(i)\n",
    "            \n",
    "    if len(cornersOpen) > 0:\n",
    "        move = selectRandom(cornersOpen)\n",
    "        return move\n",
    "\n",
    "    if 5 in possibleMoves:\n",
    "        move = 5\n",
    "        return move\n",
    "\n",
    "    edgesOpen = []\n",
    "    for i in possibleMoves:\n",
    "        if i in [2,4,6,8]:\n",
    "            edgesOpen.append(i)\n",
    "            \n",
    "    if len(edgesOpen) > 0:\n",
    "        move = selectRandom(edgesOpen)\n",
    "        \n",
    "    return move"
   ]
  },
  {
   "cell_type": "code",
   "execution_count": null,
   "metadata": {},
   "outputs": [],
   "source": [
    "def selectRandom(li):\n",
    "    import random\n",
    "    ln = len(li)\n",
    "    r = random.randrange(0,ln)\n",
    "    return li[r]"
   ]
  },
  {
   "cell_type": "code",
   "execution_count": null,
   "metadata": {},
   "outputs": [],
   "source": [
    "def randomMove():\n",
    "    possibleMoves = [x for x, letter in enumerate(board) if letter != 'X'and letter != 'O' and x != 0]\n",
    "    move = selectRandom(possibleMoves)\n",
    "    return move"
   ]
  },
  {
   "cell_type": "code",
   "execution_count": null,
   "metadata": {},
   "outputs": [],
   "source": [
    "def isBoardFull(board):\n",
    "    if board.count('X') >= 5:\n",
    "        return True\n",
    "    else:\n",
    "        return False\n"
   ]
  },
  {
   "cell_type": "code",
   "execution_count": null,
   "metadata": {},
   "outputs": [],
   "source": [
    "def playerVSrandom():\n",
    "    print('Welcome to Tic Tac Toe!')\n",
    "    printBoard(board)\n",
    "    while not(isBoardFull(board)):\n",
    "        if not(isWinner(board, 'O')):\n",
    "            playerMoveX()\n",
    "            printBoard(board)\n",
    "        else:\n",
    "            print('Sorry, O\\'s won this time!')\n",
    "            break\n",
    "\n",
    "        if not(isWinner(board, 'X')):\n",
    "            move = randomMove()\n",
    "            if move == 0:\n",
    "                print('Tie Game!')\n",
    "            else:\n",
    "                insertLetter('O', move)\n",
    "                print('Computer placed an \\'O\\' in position', move , ':')\n",
    "                printBoard(board)\n",
    "        else:\n",
    "            print('X\\'s won this time! Good Job!')\n",
    "            break"
   ]
  },
  {
   "cell_type": "code",
   "execution_count": null,
   "metadata": {},
   "outputs": [],
   "source": [
    "def playerVSintil():\n",
    "    print('Welcome to Tic Tac Toe!')\n",
    "    printBoard(board)\n",
    "\n",
    "    while not(isBoardFull(board)):\n",
    "        if not(isWinner(board, 'O')):\n",
    "            playerMove()\n",
    "            printBoard(board)\n",
    "        else:\n",
    "            print('Sorry, O\\'s won this time!')\n",
    "            break\n",
    "\n",
    "        if not(isWinner(board, 'X')):\n",
    "            move = compMove()\n",
    "            if move == 0:\n",
    "                print('Tie Game!')\n",
    "            else:\n",
    "                insertLetter('O', move)\n",
    "                print('Computer placed an \\'O\\' in position', move , ':')\n",
    "                printBoard(board)\n",
    "        else:\n",
    "            print('X\\'s won this time! Good Job!')\n",
    "            break"
   ]
  },
  {
   "cell_type": "code",
   "execution_count": null,
   "metadata": {},
   "outputs": [],
   "source": [
    "def playerVSplayer():\n",
    "    print('Welcome to Tic Tac Toe!')\n",
    "    printBoard(board)\n",
    "\n",
    "    while not(isBoardFull(board)):\n",
    "        if not(isWinner(board, 'O')):\n",
    "            playerMoveX()\n",
    "            printBoard(board)\n",
    "        else:\n",
    "            print('Sorry, O\\'s won this time!')\n",
    "            break\n",
    "        if not(isWinner(board, 'X')):\n",
    "            if board.count('X')==5:\n",
    "                print('Tie Game!')\n",
    "            else:\n",
    "                playerMoveO()\n",
    "                printBoard(board)\n",
    "        else:\n",
    "            print('Sorry, X\\'s won this time!')\n",
    "            break"
   ]
  },
  {
   "cell_type": "code",
   "execution_count": null,
   "metadata": {},
   "outputs": [],
   "source": [
    "def intilVSintil():\n",
    "    print('Welcome to Tic Tac Toe!')\n",
    "    printBoard(board)\n",
    "\n",
    "    while not(isBoardFull(board)):\n",
    "        if not(isWinner(board, 'O')):\n",
    "            move = compMove()\n",
    "            if move == 0:\n",
    "                print('Tie Game!')\n",
    "            else:\n",
    "                insertLetter('X', move)\n",
    "                print('Computer placed an \\'X\\' in position', move , ':')\n",
    "                printBoard(board)\n",
    "        else:\n",
    "            print('O\\'s won this time! Good Job!')\n",
    "            break\n",
    "\n",
    "        if not(isWinner(board, 'X')):\n",
    "            move = compMove()\n",
    "            if move == 0:\n",
    "                print('Tie Game!')\n",
    "            else:\n",
    "                insertLetter('O', move)\n",
    "                print('Computer placed an \\'O\\' in position', move , ':')\n",
    "                printBoard(board)\n",
    "        else:\n",
    "            print('X\\'s won this time! Good Job!')\n",
    "            break"
   ]
  },
  {
   "cell_type": "code",
   "execution_count": null,
   "metadata": {
    "scrolled": false
   },
   "outputs": [],
   "source": [
    "playerVSintil()"
   ]
  },
  {
   "cell_type": "code",
   "execution_count": null,
   "metadata": {},
   "outputs": [],
   "source": [
    "playerVSplayer()"
   ]
  },
  {
   "cell_type": "code",
   "execution_count": null,
   "metadata": {},
   "outputs": [],
   "source": [
    "board = []\n",
    "for i in range (10):\n",
    "    board.append(i)\n",
    "    \n",
    "print (board)"
   ]
  },
  {
   "cell_type": "code",
   "execution_count": null,
   "metadata": {},
   "outputs": [],
   "source": [
    "playerVSrandom()"
   ]
  },
  {
   "cell_type": "code",
   "execution_count": null,
   "metadata": {},
   "outputs": [],
   "source": [
    "intilVSintil()"
   ]
  },
  {
   "cell_type": "code",
   "execution_count": null,
   "metadata": {},
   "outputs": [],
   "source": []
  }
 ],
 "metadata": {
  "kernelspec": {
   "display_name": "Python 3",
   "language": "python",
   "name": "python3"
  },
  "language_info": {
   "codemirror_mode": {
    "name": "ipython",
    "version": 3
   },
   "file_extension": ".py",
   "mimetype": "text/x-python",
   "name": "python",
   "nbconvert_exporter": "python",
   "pygments_lexer": "ipython3",
   "version": "3.8.5"
  }
 },
 "nbformat": 4,
 "nbformat_minor": 4
}
